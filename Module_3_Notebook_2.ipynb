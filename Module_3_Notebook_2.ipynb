{
 "cells": [
  {
   "cell_type": "markdown",
   "metadata": {},
   "source": [
    "## Setup"
   ]
  },
  {
   "cell_type": "code",
   "execution_count": 1,
   "metadata": {},
   "outputs": [],
   "source": [
    "# To support both python 2 and python 3\n",
    "from __future__ import division, print_function, unicode_literals\n",
    "\n",
    "# Common imports\n",
    "import numpy as np\n",
    "import os\n",
    "\n",
    "# to make this notebook's output stable across runs\n",
    "np.random.seed(42)\n",
    "\n",
    "# To plot pretty figures\n",
    "%matplotlib inline\n",
    "import matplotlib\n",
    "import matplotlib.pyplot as plt\n",
    "plt.rcParams['axes.labelsize'] = 14\n",
    "plt.rcParams['xtick.labelsize'] = 12\n",
    "plt.rcParams['ytick.labelsize'] = 12\n",
    "\n",
    "# Where to save the figures\n",
    "PROJECT_ROOT_DIR = \".\"\n",
    "CHAPTER_ID = \"classification\"\n",
    "\n",
    "def save_fig(fig_id, tight_layout=True):\n",
    "    image_dir = os.path.join(PROJECT_ROOT_DIR, \"images\", CHAPTER_ID)\n",
    "    if not os.path.exists(image_dir):\n",
    "        os.makedirs(image_dir)\n",
    "\n",
    "    path = os.path.join(image_dir, fig_id + \".png\")\n",
    "    print(\"Saving figure\", fig_id)\n",
    "    if tight_layout:\n",
    "        plt.tight_layout()\n",
    "    plt.savefig(path, format='png', dpi=300)\n",
    "    \n",
    "from sklearn.datasets import get_data_home\n"
   ]
  },
  {
   "cell_type": "markdown",
   "metadata": {},
   "source": [
    "## Setup cont."
   ]
  },
  {
   "cell_type": "code",
   "execution_count": 2,
   "metadata": {},
   "outputs": [],
   "source": [
    "def sort_by_target(mnist):\n",
    "    reorder_train = np.array(sorted([(target, i) for i, target in enumerate(mnist.target[:60000])]))[:, 1]\n",
    "    reorder_test = np.array(sorted([(target, i) for i, target in enumerate(mnist.target[60000:])]))[:, 1]\n",
    "    mnist.data[:60000] = mnist.data[reorder_train]\n",
    "    mnist.target[:60000] = mnist.target[reorder_train]\n",
    "    mnist.data[60000:] = mnist.data[reorder_test + 60000]\n",
    "    mnist.target[60000:] = mnist.target[reorder_test + 60000]\n",
    "\n"
   ]
  },
  {
   "cell_type": "markdown",
   "metadata": {},
   "source": [
    "## Import data"
   ]
  },
  {
   "cell_type": "code",
   "execution_count": 3,
   "metadata": {},
   "outputs": [],
   "source": [
    "try:\n",
    "    from sklearn.datasets import fetch_openml\n",
    "    mnist = fetch_openml('mnist_784', version=1, cache=True)\n",
    "    mnist.target = mnist.target.astype(np.int8) # fetch_openml() returns targets as strings\n",
    "    sort_by_target(mnist) # fetch_openml() returns an unsorted dataset\n",
    "except ImportError:\n",
    "    from sklearn.datasets import fetch_mldata\n",
    "    mnist = fetch_mldata('MNIST original')\n",
    "mnist[\"data\"], mnist[\"target\"]\n",
    "\n",
    "X, y = mnist[\"data\"], mnist[\"target\"]"
   ]
  },
  {
   "cell_type": "markdown",
   "metadata": {},
   "source": [
    "## Split dataset"
   ]
  },
  {
   "cell_type": "code",
   "execution_count": 4,
   "metadata": {},
   "outputs": [],
   "source": [
    "# Split the data so that the X_train gets the first 60000 values and X_test gets the remaining values. Do the same\n",
    "# with the labels.\n",
    "\n",
    "X_train, X_test, y_train, y_test = X[:60000], X[60000:], y[:60000], y[60000:]"
   ]
  },
  {
   "cell_type": "markdown",
   "metadata": {},
   "source": [
    "## Random shuffle"
   ]
  },
  {
   "cell_type": "code",
   "execution_count": 5,
   "metadata": {},
   "outputs": [],
   "source": [
    "import numpy as np\n",
    "\n",
    "shuffle_index = np.random.permutation(60000)\n",
    "\n",
    "X_train, y_train = X_train[shuffle_index], y_train[shuffle_index]"
   ]
  },
  {
   "cell_type": "markdown",
   "metadata": {},
   "source": [
    "## 9. Use the second notebook to build your best solution and document its performance."
   ]
  },
  {
   "cell_type": "markdown",
   "metadata": {},
   "source": [
    "#### We will create two classifiers and see if they perform better than RandomForest or StochasticGradientDescent"
   ]
  },
  {
   "cell_type": "code",
   "execution_count": 6,
   "metadata": {},
   "outputs": [
    {
     "data": {
      "text/plain": [
       "GaussianNB(priors=None, var_smoothing=1e-09)"
      ]
     },
     "execution_count": 6,
     "metadata": {},
     "output_type": "execute_result"
    }
   ],
   "source": [
    "# Create a GaussianNB Classifier\n",
    "\n",
    "from sklearn.naive_bayes import GaussianNB\n",
    "gaussianNBClassifier = GaussianNB()\n",
    "gaussianNBClassifier.fit(X_train, y_train)"
   ]
  },
  {
   "cell_type": "code",
   "execution_count": 7,
   "metadata": {},
   "outputs": [
    {
     "data": {
      "text/plain": [
       "DecisionTreeClassifier(class_weight=None, criterion='gini', max_depth=5,\n",
       "            max_features=None, max_leaf_nodes=None,\n",
       "            min_impurity_decrease=0.0, min_impurity_split=None,\n",
       "            min_samples_leaf=1, min_samples_split=2,\n",
       "            min_weight_fraction_leaf=0.0, presort=False, random_state=None,\n",
       "            splitter='best')"
      ]
     },
     "execution_count": 7,
     "metadata": {},
     "output_type": "execute_result"
    }
   ],
   "source": [
    "# Create a decision tree classifier\n",
    "\n",
    "from sklearn.tree import DecisionTreeClassifier\n",
    "decisionTreeClassifier = DecisionTreeClassifier(max_depth=5)\n",
    "decisionTreeClassifier.fit(X_train, y_train)"
   ]
  },
  {
   "cell_type": "code",
   "execution_count": 8,
   "metadata": {},
   "outputs": [],
   "source": [
    "# Import cross_val_score\n",
    "from sklearn.model_selection import cross_val_score"
   ]
  },
  {
   "cell_type": "code",
   "execution_count": 9,
   "metadata": {},
   "outputs": [],
   "source": [
    "# Get the scores for GaussianNB\n",
    "gaussianNBScores = cross_val_score(gaussianNBClassifier, X_train, y_train, cv=5, scoring=\"accuracy\")\n"
   ]
  },
  {
   "cell_type": "code",
   "execution_count": 10,
   "metadata": {},
   "outputs": [],
   "source": [
    "# Get the scores for decisionTreeClassifier\n",
    "decisionTreeScores = cross_val_score(decisionTreeClassifier, X_train, y_train, cv=3, scoring=\"accuracy\")"
   ]
  },
  {
   "cell_type": "code",
   "execution_count": 11,
   "metadata": {},
   "outputs": [
    {
     "name": "stdout",
     "output_type": "stream",
     "text": [
      "Gaussian Naive Bayes Scores:  [0.56459808 0.55799033 0.56825    0.55922314 0.5626042 ]\n",
      "mean score:  0.5625331519188734\n",
      "Decision Tree Scores:  [0.67406519 0.66688334 0.66900035]\n",
      "mean score:  0.669982960394108\n"
     ]
    }
   ],
   "source": [
    "print('Gaussian Naive Bayes Scores: ', gaussianNBScores)\n",
    "print('mean score: ', gaussianNBScores.mean())\n",
    "\n",
    "print('Decision Tree Scores: ', decisionTreeScores)\n",
    "print('mean score: ', decisionTreeScores.mean())\n"
   ]
  },
  {
   "cell_type": "code",
   "execution_count": 12,
   "metadata": {},
   "outputs": [],
   "source": [
    "from sklearn.model_selection import cross_val_predict\n",
    "from sklearn.metrics import confusion_matrix"
   ]
  },
  {
   "cell_type": "code",
   "execution_count": 13,
   "metadata": {},
   "outputs": [],
   "source": [
    "gaussianNBPredictions = cross_val_predict(gaussianNBClassifier, X_train, y_train, cv=3)"
   ]
  },
  {
   "cell_type": "code",
   "execution_count": 14,
   "metadata": {},
   "outputs": [],
   "source": [
    "decisionTreePredictions = cross_val_predict(decisionTreeClassifier, X_train, y_train, cv=3)"
   ]
  },
  {
   "cell_type": "code",
   "execution_count": 15,
   "metadata": {},
   "outputs": [
    {
     "data": {
      "text/plain": [
       "array([[5315,   12,   36,   21,    9,   17,  156,    5,  259,   93],\n",
       "       [   4, 6371,   15,   35,    2,   11,   77,    4,  149,   74],\n",
       "       [ 638,  187, 1679,  493,   31,   47, 1442,   16, 1338,   87],\n",
       "       [ 459,  353,   49, 2266,   16,   12,  272,   52, 2036,  616],\n",
       "       [ 180,   65,   49,   32,  988,   36,  504,   25, 1227, 2736],\n",
       "       [ 710,  164,   34,  123,   34,  330,  269,   12, 3203,  542],\n",
       "       [  71,  139,   32,    7,    6,   27, 5512,    0,  116,    8],\n",
       "       [  30,   51,    8,   59,   59,   14,   15, 1920,  194, 3915],\n",
       "       [ 118,  907,   25,   52,   22,   45,   96,    7, 3567, 1012],\n",
       "       [  34,   62,   18,    7,   39,    5,    5,   88,  105, 5586]],\n",
       "      dtype=int64)"
      ]
     },
     "execution_count": 15,
     "metadata": {},
     "output_type": "execute_result"
    }
   ],
   "source": [
    "gaussianNBConfusionMatrix = confusion_matrix(y_train, gaussianNBPredictions)\n",
    "gaussianNBConfusionMatrix"
   ]
  },
  {
   "cell_type": "code",
   "execution_count": 16,
   "metadata": {},
   "outputs": [
    {
     "data": {
      "text/plain": [
       "array([[4319,   10,   36,   69,   84,  312,  414,  169,  312,  198],\n",
       "       [   2, 5542,  320,  115,    1,  135,   71,   81,  470,    5],\n",
       "       [  87,  142, 3980,   45,  115,   83,  580,  316,  415,  195],\n",
       "       [  51,  174,  301, 3536,   65,  681,  267,   93,  606,  357],\n",
       "       [   8,  114,   49,   64, 3811,  196,  623,   21,  150,  806],\n",
       "       [ 122,  130,   81,  435,  287, 1762,  842,   67, 1058,  637],\n",
       "       [  86,   78,  333,   29,  440,  181, 4140,   28,  378,  225],\n",
       "       [  10,   98,  208,   43,  229,   61,   46, 4686,  239,  645],\n",
       "       [   2,  249,  234,  101,  105,  227,  612,   14, 4059,  248],\n",
       "       [  20,  159,   59,  134,  239,  355,  261,   72,  286, 4364]],\n",
       "      dtype=int64)"
      ]
     },
     "execution_count": 16,
     "metadata": {},
     "output_type": "execute_result"
    }
   ],
   "source": [
    "decisionTreeConfusionMatrix = confusion_matrix(y_train, decisionTreePredictions)\n",
    "decisionTreeConfusionMatrix"
   ]
  },
  {
   "cell_type": "code",
   "execution_count": 17,
   "metadata": {},
   "outputs": [
    {
     "data": {
      "image/png": "[encoded data removed]",
      "text/plain": [
       "<Figure size 288x288 with 1 Axes>"
      ]
     },
     "metadata": {
      "needs_background": "light"
     },
     "output_type": "display_data"
    }
   ],
   "source": [
    "plt.matshow(gaussianNBConfusionMatrix, cmap=plt.cm.gray)\n",
    "plt.show()"
   ]
  },
  {
   "cell_type": "code",
   "execution_count": 18,
   "metadata": {},
   "outputs": [
    {
     "data": {
      "image/png": "[encoded data removed]",
      "text/plain": [
       "<Figure size 288x288 with 1 Axes>"
      ]
     },
     "metadata": {
      "needs_background": "light"
     },
     "output_type": "display_data"
    }
   ],
   "source": [
    "plt.matshow(decisionTreeConfusionMatrix, cmap=plt.cm.gray)\n",
    "plt.show()"
   ]
  },
  {
   "cell_type": "code",
   "execution_count": 19,
   "metadata": {},
   "outputs": [
    {
     "name": "stdout",
     "output_type": "stream",
     "text": [
      "Gaussian Naive Bayes Precision:  0.6726385973625082\n",
      "Gaussian Naive Bayes Recall:  0.5510199727253081\n",
      "Decision Tree Precision:  0.6828640455910635\n",
      "Decision Tree Precision Recall:  0.6648152262239531\n"
     ]
    }
   ],
   "source": [
    "# Let's print precision and recall for both models\n",
    "\n",
    "from sklearn.metrics import precision_score, recall_score\n",
    "\n",
    "gaussianNBPrecision = precision_score(y_train, gaussianNBPredictions, average='macro')\n",
    "gaussianNBRecall = recall_score(y_train, gaussianNBPredictions, average='macro')\n",
    "\n",
    "decisionTreePrecision = precision_score(y_train, decisionTreePredictions, average='macro')\n",
    "decisionTreeRecall = recall_score(y_train, decisionTreePredictions, average='macro')\n",
    "\n",
    "print(\"Gaussian Naive Bayes Precision: \",gaussianNBPrecision)\n",
    "print(\"Gaussian Naive Bayes Recall: \",gaussianNBRecall)\n",
    "\n",
    "print(\"Decision Tree Precision: \",decisionTreePrecision)\n",
    "print(\"Decision Tree Precision Recall: \",decisionTreeRecall)\n",
    "\n"
   ]
  }
 ],
 "metadata": {
  "kernelspec": {
   "display_name": "Python 3",
   "language": "python",
   "name": "python3"
  },
  "language_info": {
   "codemirror_mode": {
    "name": "ipython",
    "version": 3
   },
   "file_extension": ".py",
   "mimetype": "text/x-python",
   "name": "python",
   "nbconvert_exporter": "python",
   "pygments_lexer": "ipython3",
   "version": "3.6.8"
  }
 },
 "nbformat": 4,
 "nbformat_minor": 2
}
